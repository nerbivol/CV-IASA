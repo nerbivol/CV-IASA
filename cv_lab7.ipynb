{
  "nbformat": 4,
  "nbformat_minor": 0,
  "metadata": {
    "colab": {
      "provenance": [],
      "gpuType": "T4"
    },
    "kernelspec": {
      "name": "python3",
      "display_name": "Python 3"
    },
    "language_info": {
      "name": "python"
    },
    "accelerator": "GPU"
  },
  "cells": [
    {
      "cell_type": "markdown",
      "source": [
        "*Роботу виконав </br> Бірук Сергій </br> Група КІ-31мп*\n",
        "\n",
        "\n"
      ],
      "metadata": {
        "id": "lpQ6JWDap1BF"
      }
    },
    {
      "cell_type": "code",
      "source": [
        "import torch\n",
        "import torch.nn as nn\n",
        "import torch.optim as optim\n",
        "import torchvision\n",
        "import torchvision.transforms as transforms\n",
        "import matplotlib.pyplot as plt\n",
        "from sklearn.metrics import accuracy_score, precision_score\n",
        "import math\n",
        "import numpy as np\n",
        "from tqdm import tqdm, trange"
      ],
      "metadata": {
        "id": "g-2DuQt_hvqo"
      },
      "execution_count": 1,
      "outputs": []
    },
    {
      "cell_type": "code",
      "execution_count": 2,
      "metadata": {
        "id": "Z8yds87cBoJM",
        "colab": {
          "base_uri": "https://localhost:8080/"
        },
        "outputId": "83fe705b-bf8a-4f7d-818b-236947875c8c"
      },
      "outputs": [
        {
          "output_type": "stream",
          "name": "stdout",
          "text": [
            "Downloading http://fashion-mnist.s3-website.eu-central-1.amazonaws.com/train-images-idx3-ubyte.gz\n",
            "Downloading http://fashion-mnist.s3-website.eu-central-1.amazonaws.com/train-images-idx3-ubyte.gz to ./data/FashionMNIST/raw/train-images-idx3-ubyte.gz\n"
          ]
        },
        {
          "output_type": "stream",
          "name": "stderr",
          "text": [
            "100%|██████████| 26421880/26421880 [00:02<00:00, 12746375.28it/s]\n"
          ]
        },
        {
          "output_type": "stream",
          "name": "stdout",
          "text": [
            "Extracting ./data/FashionMNIST/raw/train-images-idx3-ubyte.gz to ./data/FashionMNIST/raw\n",
            "\n",
            "Downloading http://fashion-mnist.s3-website.eu-central-1.amazonaws.com/train-labels-idx1-ubyte.gz\n",
            "Downloading http://fashion-mnist.s3-website.eu-central-1.amazonaws.com/train-labels-idx1-ubyte.gz to ./data/FashionMNIST/raw/train-labels-idx1-ubyte.gz\n"
          ]
        },
        {
          "output_type": "stream",
          "name": "stderr",
          "text": [
            "100%|██████████| 29515/29515 [00:00<00:00, 187323.35it/s]\n"
          ]
        },
        {
          "output_type": "stream",
          "name": "stdout",
          "text": [
            "Extracting ./data/FashionMNIST/raw/train-labels-idx1-ubyte.gz to ./data/FashionMNIST/raw\n",
            "\n",
            "Downloading http://fashion-mnist.s3-website.eu-central-1.amazonaws.com/t10k-images-idx3-ubyte.gz\n",
            "Downloading http://fashion-mnist.s3-website.eu-central-1.amazonaws.com/t10k-images-idx3-ubyte.gz to ./data/FashionMNIST/raw/t10k-images-idx3-ubyte.gz\n"
          ]
        },
        {
          "output_type": "stream",
          "name": "stderr",
          "text": [
            "100%|██████████| 4422102/4422102 [00:01<00:00, 3666490.03it/s]\n"
          ]
        },
        {
          "output_type": "stream",
          "name": "stdout",
          "text": [
            "Extracting ./data/FashionMNIST/raw/t10k-images-idx3-ubyte.gz to ./data/FashionMNIST/raw\n",
            "\n",
            "Downloading http://fashion-mnist.s3-website.eu-central-1.amazonaws.com/t10k-labels-idx1-ubyte.gz\n",
            "Downloading http://fashion-mnist.s3-website.eu-central-1.amazonaws.com/t10k-labels-idx1-ubyte.gz to ./data/FashionMNIST/raw/t10k-labels-idx1-ubyte.gz\n"
          ]
        },
        {
          "output_type": "stream",
          "name": "stderr",
          "text": [
            "100%|██████████| 5148/5148 [00:00<00:00, 18008571.30it/s]\n"
          ]
        },
        {
          "output_type": "stream",
          "name": "stdout",
          "text": [
            "Extracting ./data/FashionMNIST/raw/t10k-labels-idx1-ubyte.gz to ./data/FashionMNIST/raw\n",
            "\n"
          ]
        }
      ],
      "source": [
        "transform = transforms.Compose([transforms.Grayscale(num_output_channels=1),\n",
        "                                transforms.Resize((28, 28)),\n",
        "                                transforms.ToTensor()])\n",
        "\n",
        "trainset = torchvision.datasets.FashionMNIST(root='./data', train=True,\n",
        "                                        download=True, transform=transform)\n",
        "testset = torchvision.datasets.FashionMNIST(root='./data', train=False,\n",
        "                                       download=True, transform=transform)"
      ]
    },
    {
      "cell_type": "code",
      "source": [
        "class_names = trainset.classes\n",
        "class_names"
      ],
      "metadata": {
        "colab": {
          "base_uri": "https://localhost:8080/"
        },
        "id": "SzkbQqNjsyVk",
        "outputId": "9e72e609-214e-4df5-956c-83fbf9303777"
      },
      "execution_count": 3,
      "outputs": [
        {
          "output_type": "execute_result",
          "data": {
            "text/plain": [
              "['T-shirt/top',\n",
              " 'Trouser',\n",
              " 'Pullover',\n",
              " 'Dress',\n",
              " 'Coat',\n",
              " 'Sandal',\n",
              " 'Shirt',\n",
              " 'Sneaker',\n",
              " 'Bag',\n",
              " 'Ankle boot']"
            ]
          },
          "metadata": {},
          "execution_count": 3
        }
      ]
    },
    {
      "cell_type": "code",
      "source": [
        "fig = plt.figure(figsize=(9, 9))\n",
        "rows, cols = 4, 4\n",
        "for i in range(1, rows * cols + 1):\n",
        "    random_idx = torch.randint(0, len(trainset), size=[1]).item()\n",
        "    img, label = trainset[random_idx]\n",
        "    fig.add_subplot(rows, cols, i)\n",
        "    plt.imshow(img.squeeze(), cmap=\"gray\")\n",
        "    plt.title(class_names[label])\n",
        "    plt.axis(False);"
      ],
      "metadata": {
        "colab": {
          "base_uri": "https://localhost:8080/",
          "height": 752
        },
        "id": "-ClyU_6gs0Zn",
        "outputId": "4def54c8-2c9a-4b2a-d89f-ff1976df86dc"
      },
      "execution_count": 4,
      "outputs": [
        {
          "output_type": "display_data",
          "data": {
            "text/plain": [
              "<Figure size 900x900 with 16 Axes>"
            ],
            "image/png": "[encoded data removed]"
          },
          "metadata": {}
        }
      ]
    },
    {
      "cell_type": "code",
      "source": [
        "train_size = int(0.8 * len(trainset))\n",
        "val_size = len(trainset) - train_size\n",
        "train_dataset, val_dataset = torch.utils.data.random_split(trainset, [train_size, val_size])\n",
        "\n",
        "BATCH_SIZE = 64\n",
        "\n",
        "train_dataloader = torch.utils.data.DataLoader(train_dataset,\n",
        "    batch_size=BATCH_SIZE,\n",
        "    shuffle=True\n",
        ")\n",
        "\n",
        "valid_dataloader = torch.utils.data.DataLoader(val_dataset,\n",
        "    batch_size=BATCH_SIZE,\n",
        "    shuffle=True\n",
        ")\n",
        "\n",
        "test_dataloader = torch.utils.data.DataLoader(testset,\n",
        "    batch_size=BATCH_SIZE,\n",
        "    shuffle=False\n",
        ")\n",
        "\n",
        "\n",
        "print(f\"Length of train dataloader: {len(train_dataloader)} batches of {BATCH_SIZE}\")\n",
        "print(f\"Length of valid dataloader: {len(valid_dataloader)} batches of {BATCH_SIZE}\")\n",
        "print(f\"Length of test dataloader: {len(test_dataloader)} batches of {BATCH_SIZE}\")"
      ],
      "metadata": {
        "colab": {
          "base_uri": "https://localhost:8080/"
        },
        "id": "cdilkbg_s4BT",
        "outputId": "92825919-34b5-488c-9023-9766cb3ca646"
      },
      "execution_count": 5,
      "outputs": [
        {
          "output_type": "stream",
          "name": "stdout",
          "text": [
            "Length of train dataloader: 750 batches of 64\n",
            "Length of valid dataloader: 188 batches of 64\n",
            "Length of test dataloader: 157 batches of 64\n"
          ]
        }
      ]
    },
    {
      "cell_type": "code",
      "source": [
        "class MyMSA(nn.Module):\n",
        "    def __init__(self, d, n_heads=2):\n",
        "        super(MyMSA, self).__init__()\n",
        "        self.d = d\n",
        "        self.n_heads = n_heads\n",
        "\n",
        "        d_head = int(d / n_heads)\n",
        "        self.q_mappings = nn.ModuleList(\n",
        "            [nn.Linear(d_head, d_head) for _ in range(self.n_heads)]\n",
        "        )\n",
        "        self.k_mappings = nn.ModuleList(\n",
        "            [nn.Linear(d_head, d_head) for _ in range(self.n_heads)]\n",
        "        )\n",
        "        self.v_mappings = nn.ModuleList(\n",
        "            [nn.Linear(d_head, d_head) for _ in range(self.n_heads)]\n",
        "        )\n",
        "        self.d_head = d_head\n",
        "        self.softmax = nn.Softmax(dim=-1)\n",
        "\n",
        "    def forward(self, sequences):\n",
        "        # Sequences has shape (N, seq_length, token_dim)\n",
        "        # We go into shape    (N, seq_length, n_heads, token_dim / n_heads)\n",
        "        # And come back to    (N, seq_length, item_dim)  (through concatenation)\n",
        "        batch_size, seq_length, token_dim = sequences.size()\n",
        "\n",
        "        # Reshape the input sequences into (N, seq_length, n_heads, d_head)\n",
        "        sequences = sequences.view(batch_size, seq_length, self.n_heads, self.d_head)\n",
        "\n",
        "        result = []\n",
        "\n",
        "        for head in range(self.n_heads):\n",
        "            q_mapping = self.q_mappings[head]\n",
        "            k_mapping = self.k_mappings[head]\n",
        "            v_mapping = self.v_mappings[head]\n",
        "\n",
        "            q = q_mapping(sequences[:, :, head, :])\n",
        "            k = k_mapping(sequences[:, :, head, :])\n",
        "            v = v_mapping(sequences[:, :, head, :])\n",
        "\n",
        "            attention = self.softmax(torch.matmul(q, k.permute(0, 2, 1)) / (self.d_head**0.5))\n",
        "            seq_result = torch.matmul(attention, v)\n",
        "\n",
        "            result.append(seq_result)\n",
        "\n",
        "        # Concatenate and reshape the result to (N, seq_length, item_dim)\n",
        "        result = torch.cat(result, dim=2)\n",
        "\n",
        "        return result\n",
        "\n",
        "\n",
        "\n",
        "class MyViTBlock(nn.Module):\n",
        "    def __init__(self, hidden_d, n_heads, mlp_ratio=4):\n",
        "        super(MyViTBlock, self).__init__()\n",
        "        self.hidden_d = hidden_d\n",
        "        self.n_heads = n_heads\n",
        "\n",
        "        # Multi-Head Self-Attention Layer\n",
        "        self.norm1 = nn.LayerNorm(hidden_d)\n",
        "        self.mhsa = MyMSA(hidden_d, n_heads)\n",
        "\n",
        "        # MLP Layer\n",
        "        self.norm2 = nn.LayerNorm(hidden_d)\n",
        "        self.mlp = nn.Sequential(\n",
        "            nn.Linear(hidden_d, mlp_ratio * hidden_d),\n",
        "            nn.GELU(),\n",
        "            nn.Linear(mlp_ratio * hidden_d, hidden_d),\n",
        "        )\n",
        "\n",
        "    def forward(self, x):\n",
        "        # Multi-Head Self-Attention\n",
        "        out = x + self.mhsa(self.norm1(x))\n",
        "\n",
        "        # MLP Layer\n",
        "        out = out + self.mlp(self.norm2(out))\n",
        "        return out\n",
        "\n",
        "\n",
        "def get_positional_embeddings(sequence_length, d):\n",
        "    # Create an array with positions from 0 to sequence_length - 1\n",
        "    positions = torch.arange(0, sequence_length).unsqueeze(1)\n",
        "\n",
        "    # Compute the angles for the even and odd dimensions\n",
        "    angles = positions / torch.pow(10000, torch.arange(0, d, 2) / d)\n",
        "\n",
        "    # Use sine for even dimensions and cosine for odd dimensions\n",
        "    embeddings = torch.zeros(sequence_length, d)\n",
        "    embeddings[:, 0::2] = torch.sin(angles)\n",
        "    embeddings[:, 1::2] = torch.cos(angles)\n",
        "\n",
        "    return embeddings"
      ],
      "metadata": {
        "id": "vnRfPQ0kfJWG"
      },
      "execution_count": 6,
      "outputs": []
    },
    {
      "cell_type": "code",
      "source": [
        "class MyViT(nn.Module):\n",
        "    def __init__(self, chw, n_patches=7, n_blocks=2, hidden_d=8, n_heads=2, out_d=10):\n",
        "        super(MyViT, self).__init__()\n",
        "\n",
        "        self.chw = chw\n",
        "        self.n_patches = n_patches\n",
        "        self.n_blocks = n_blocks\n",
        "        self.n_heads = n_heads\n",
        "        self.hidden_d = hidden_d\n",
        "        self.patch_size = (chw[1] // n_patches, chw[2] // n_patches)\n",
        "\n",
        "        # 1) Linear mapper\n",
        "        self.input_d = int(chw[0] * self.patch_size[0] * self.patch_size[1])\n",
        "        self.linear_mapper = nn.Linear(self.input_d, self.hidden_d)\n",
        "\n",
        "        # 2) Positional embedding\n",
        "        self.register_buffer(\n",
        "            \"positional_embeddings\",\n",
        "            get_positional_embeddings(n_patches**2, hidden_d),\n",
        "            persistent=False,\n",
        "        )\n",
        "\n",
        "        # 3) Transformer encoder blocks\n",
        "        self.transformer = nn.ModuleList(\n",
        "            [MyViTBlock(hidden_d, n_heads) for _ in range(n_blocks)]\n",
        "        )\n",
        "\n",
        "        # 4) Classification MLP\n",
        "        self.mlp = nn.Sequential(nn.Linear(hidden_d, out_d), nn.Softmax(dim=-1))\n",
        "\n",
        "    def forward(self, images):\n",
        "        # Dividing images into patches\n",
        "        n, c, h, w = images.shape\n",
        "        patch_size_h, patch_size_w = self.patch_size\n",
        "        patches = images.unfold(2, patch_size_h, patch_size_h).unfold(3, patch_size_w, patch_size_w)\n",
        "        patches = patches.contiguous().view(n, c, -1, patch_size_h, patch_size_w)\n",
        "        patches = patches.permute(0, 2, 1, 3, 4).contiguous().view(n, -1, c * patch_size_h * patch_size_w)\n",
        "\n",
        "        tokens = self.linear_mapper(patches)\n",
        "        out = tokens + self.positional_embeddings.repeat(n, 1, 1)\n",
        "\n",
        "        for block in self.transformer:\n",
        "            out = block(out)\n",
        "\n",
        "        # add mean pooling here to replace the classification token\n",
        "        out = torch.mean(out, dim=1)\n",
        "\n",
        "        out = self.mlp(out)\n",
        "\n",
        "        return out"
      ],
      "metadata": {
        "id": "-UPgHqNp-aIe"
      },
      "execution_count": 7,
      "outputs": []
    },
    {
      "cell_type": "code",
      "source": [
        "N_EPOCHS = 100\n",
        "LR = 0.005\n",
        "\n",
        "device = torch.device(\"cuda\" if torch.cuda.is_available() else \"cpu\")\n",
        "print(\"Using device: \", device, f\"({torch.cuda.get_device_name(device)})\" if torch.cuda.is_available() else \"\")\n",
        "model = MyViT((1, 28, 28), n_patches=7, n_blocks=2, hidden_d=8, n_heads=2, out_d=10).to(device)\n",
        "\n",
        "optimizer = torch.optim.Adam(model.parameters(), lr=LR)\n",
        "criterion = torch.nn.CrossEntropyLoss()"
      ],
      "metadata": {
        "colab": {
          "base_uri": "https://localhost:8080/"
        },
        "id": "5Mz5ExZ_duM6",
        "outputId": "023c5e9a-8c53-4ec4-a458-7507d660a33a"
      },
      "execution_count": 8,
      "outputs": [
        {
          "output_type": "stream",
          "name": "stdout",
          "text": [
            "Using device:  cuda (Tesla T4)\n"
          ]
        }
      ]
    },
    {
      "cell_type": "code",
      "source": [
        "train_losses = []\n",
        "val_losses = []\n",
        "train_accs = []\n",
        "val_accs = []\n",
        "train_precisions = []\n",
        "val_precisions = []\n",
        "\n",
        "# Training loop\n",
        "for epoch in range(N_EPOCHS):\n",
        "    running_loss = 0.0\n",
        "    correct_train = 0\n",
        "    total_train = 0\n",
        "    train_predictions = []\n",
        "    train_labels = []\n",
        "\n",
        "    for inputs, labels in tqdm(train_dataloader, desc=f\"Epoch {epoch + 1} in training\"):\n",
        "        inputs, labels = inputs.to(device), labels.to(device)\n",
        "\n",
        "        optimizer.zero_grad()\n",
        "\n",
        "        outputs = model(inputs)\n",
        "        loss = criterion(outputs, labels)\n",
        "        loss.backward()\n",
        "        optimizer.step()\n",
        "\n",
        "        running_loss += loss.item()\n",
        "\n",
        "        _, predicted = torch.max(outputs.data, 1)\n",
        "\n",
        "        train_predictions.extend(predicted.cpu().numpy())\n",
        "        train_labels.extend(labels.cpu().numpy())\n",
        "\n",
        "        total_train += labels.size(0)\n",
        "        correct_train += (predicted == labels).sum().item()\n",
        "\n",
        "    train_loss = running_loss / len(train_dataloader)\n",
        "    train_accuracy = 100 * correct_train / total_train\n",
        "    train_precision = precision_score(train_labels, train_predictions, average='macro', zero_division=0.0)\n",
        "\n",
        "    train_losses.append(train_loss)\n",
        "    train_accs.append(train_accuracy)\n",
        "    train_precisions.append(train_precision)\n",
        "\n",
        "    # Validation\n",
        "    model.eval()\n",
        "    correct_val = 0\n",
        "    running_loss = 0.0\n",
        "    total_val = 0\n",
        "    val_predictions = []\n",
        "    val_labels = []\n",
        "\n",
        "    with torch.no_grad():\n",
        "        for data in valid_dataloader:\n",
        "            images, labels = data\n",
        "            images, labels = images.to(device), labels.to(device)\n",
        "\n",
        "            outputs = model(images)\n",
        "            loss = criterion(outputs, labels)\n",
        "            running_loss += loss.item()\n",
        "\n",
        "            _, predicted = torch.max(outputs.data, 1)\n",
        "\n",
        "            val_predictions.extend(predicted.cpu().numpy())\n",
        "            val_labels.extend(labels.cpu().numpy())\n",
        "\n",
        "            total_val += labels.size(0)\n",
        "            correct_val += (predicted == labels).sum().item()\n",
        "\n",
        "        val_loss = running_loss / len(valid_dataloader)\n",
        "        val_accuracy = 100 * correct_val / total_val\n",
        "        val_precision = precision_score(val_labels, val_predictions, average='macro', zero_division=0.0)\n",
        "\n",
        "        val_losses.append(val_loss)\n",
        "        val_accs.append(val_accuracy)\n",
        "        val_precisions.append(val_precision)\n",
        "\n",
        "        print(f\"Epoch [{epoch + 1}/{N_EPOCHS}] - \"\n",
        "            f\"Train Loss: {train_loss:.4f}, Train Accuracy: {train_accuracy:.2f}%, Train Precision: {train_precision:.2f}% - \"\n",
        "            f\"Validation Loss: {val_loss:.4f}, Validation Accuracy: {val_accuracy:.2f}%, Validation Precision: {val_precision:.2f}%\")\n",
        "\n",
        "# Test loop\n",
        "with torch.no_grad():\n",
        "    correct, total = 0, 0\n",
        "    test_loss = 0.0\n",
        "    for batch in tqdm(test_dataloader, desc=\"Testing\"):\n",
        "        x, y = batch\n",
        "        x, y = x.to(device), y.to(device)\n",
        "        y_hat = model(x)\n",
        "        loss = criterion(y_hat, y)\n",
        "        test_loss += loss.detach().cpu().item() / len(test_dataloader)\n",
        "\n",
        "        correct += torch.sum(torch.argmax(y_hat, dim=1) == y).detach().cpu().item()\n",
        "        total += len(x)\n",
        "    print(f\"Test loss: {test_loss:.2f}\")\n",
        "    print(f\"Test accuracy: {correct / total * 100:.2f}%\")"
      ],
      "metadata": {
        "colab": {
          "base_uri": "https://localhost:8080/"
        },
        "id": "R7uw6Mi3YLkw",
        "outputId": "ad45ecce-0088-4ea9-a263-7c3076d6cea2"
      },
      "execution_count": 9,
      "outputs": [
        {
          "output_type": "stream",
          "name": "stderr",
          "text": [
            "Epoch 1 in training: 100%|██████████| 750/750 [00:18<00:00, 41.24it/s]\n"
          ]
        },
        {
          "output_type": "stream",
          "name": "stdout",
          "text": [
            "Epoch [1/100] - Train Loss: 1.9645, Train Accuracy: 49.71%, Train Precision: 0.42% - Validation Loss: 1.8658, Validation Accuracy: 59.65%, Validation Precision: 0.52%\n"
          ]
        },
        {
          "output_type": "stream",
          "name": "stderr",
          "text": [
            "Epoch 2 in training: 100%|██████████| 750/750 [00:16<00:00, 46.03it/s]\n"
          ]
        },
        {
          "output_type": "stream",
          "name": "stdout",
          "text": [
            "Epoch [2/100] - Train Loss: 1.8131, Train Accuracy: 64.97%, Train Precision: 0.61% - Validation Loss: 1.7583, Validation Accuracy: 70.51%, Validation Precision: 0.66%\n"
          ]
        },
        {
          "output_type": "stream",
          "name": "stderr",
          "text": [
            "Epoch 3 in training: 100%|██████████| 750/750 [00:15<00:00, 47.04it/s]\n"
          ]
        },
        {
          "output_type": "stream",
          "name": "stdout",
          "text": [
            "Epoch [3/100] - Train Loss: 1.7424, Train Accuracy: 71.98%, Train Precision: 0.66% - Validation Loss: 1.7492, Validation Accuracy: 71.43%, Validation Precision: 0.67%\n"
          ]
        },
        {
          "output_type": "stream",
          "name": "stderr",
          "text": [
            "Epoch 4 in training: 100%|██████████| 750/750 [00:17<00:00, 43.35it/s]\n"
          ]
        },
        {
          "output_type": "stream",
          "name": "stdout",
          "text": [
            "Epoch [4/100] - Train Loss: 1.7318, Train Accuracy: 72.95%, Train Precision: 0.67% - Validation Loss: 1.7289, Validation Accuracy: 73.33%, Validation Precision: 0.67%\n"
          ]
        },
        {
          "output_type": "stream",
          "name": "stderr",
          "text": [
            "Epoch 5 in training: 100%|██████████| 750/750 [00:15<00:00, 47.68it/s]\n"
          ]
        },
        {
          "output_type": "stream",
          "name": "stdout",
          "text": [
            "Epoch [5/100] - Train Loss: 1.7277, Train Accuracy: 73.36%, Train Precision: 0.68% - Validation Loss: 1.7205, Validation Accuracy: 74.23%, Validation Precision: 0.69%\n"
          ]
        },
        {
          "output_type": "stream",
          "name": "stderr",
          "text": [
            "Epoch 6 in training: 100%|██████████| 750/750 [00:17<00:00, 43.81it/s]\n"
          ]
        },
        {
          "output_type": "stream",
          "name": "stdout",
          "text": [
            "Epoch [6/100] - Train Loss: 1.7239, Train Accuracy: 73.71%, Train Precision: 0.68% - Validation Loss: 1.7149, Validation Accuracy: 74.65%, Validation Precision: 0.69%\n"
          ]
        },
        {
          "output_type": "stream",
          "name": "stderr",
          "text": [
            "Epoch 7 in training: 100%|██████████| 750/750 [00:15<00:00, 47.88it/s]\n"
          ]
        },
        {
          "output_type": "stream",
          "name": "stdout",
          "text": [
            "Epoch [7/100] - Train Loss: 1.7227, Train Accuracy: 73.85%, Train Precision: 0.68% - Validation Loss: 1.7343, Validation Accuracy: 72.79%, Validation Precision: 0.69%\n"
          ]
        },
        {
          "output_type": "stream",
          "name": "stderr",
          "text": [
            "Epoch 8 in training: 100%|██████████| 750/750 [00:16<00:00, 45.67it/s]\n"
          ]
        },
        {
          "output_type": "stream",
          "name": "stdout",
          "text": [
            "Epoch [8/100] - Train Loss: 1.7223, Train Accuracy: 73.88%, Train Precision: 0.68% - Validation Loss: 1.7205, Validation Accuracy: 74.03%, Validation Precision: 0.68%\n"
          ]
        },
        {
          "output_type": "stream",
          "name": "stderr",
          "text": [
            "Epoch 9 in training: 100%|██████████| 750/750 [00:15<00:00, 48.05it/s]\n"
          ]
        },
        {
          "output_type": "stream",
          "name": "stdout",
          "text": [
            "Epoch [9/100] - Train Loss: 1.7184, Train Accuracy: 74.29%, Train Precision: 0.69% - Validation Loss: 1.7115, Validation Accuracy: 74.97%, Validation Precision: 0.70%\n"
          ]
        },
        {
          "output_type": "stream",
          "name": "stderr",
          "text": [
            "Epoch 10 in training: 100%|██████████| 750/750 [00:16<00:00, 45.68it/s]\n"
          ]
        },
        {
          "output_type": "stream",
          "name": "stdout",
          "text": [
            "Epoch [10/100] - Train Loss: 1.7165, Train Accuracy: 74.47%, Train Precision: 0.69% - Validation Loss: 1.7171, Validation Accuracy: 74.39%, Validation Precision: 0.70%\n"
          ]
        },
        {
          "output_type": "stream",
          "name": "stderr",
          "text": [
            "Epoch 11 in training: 100%|██████████| 750/750 [00:15<00:00, 47.48it/s]\n"
          ]
        },
        {
          "output_type": "stream",
          "name": "stdout",
          "text": [
            "Epoch [11/100] - Train Loss: 1.7158, Train Accuracy: 74.49%, Train Precision: 0.69% - Validation Loss: 1.7250, Validation Accuracy: 73.58%, Validation Precision: 0.70%\n"
          ]
        },
        {
          "output_type": "stream",
          "name": "stderr",
          "text": [
            "Epoch 12 in training: 100%|██████████| 750/750 [00:16<00:00, 45.95it/s]\n"
          ]
        },
        {
          "output_type": "stream",
          "name": "stdout",
          "text": [
            "Epoch [12/100] - Train Loss: 1.7153, Train Accuracy: 74.55%, Train Precision: 0.69% - Validation Loss: 1.7162, Validation Accuracy: 74.51%, Validation Precision: 0.69%\n"
          ]
        },
        {
          "output_type": "stream",
          "name": "stderr",
          "text": [
            "Epoch 13 in training: 100%|██████████| 750/750 [00:15<00:00, 48.06it/s]\n"
          ]
        },
        {
          "output_type": "stream",
          "name": "stdout",
          "text": [
            "Epoch [13/100] - Train Loss: 1.7142, Train Accuracy: 74.65%, Train Precision: 0.69% - Validation Loss: 1.7158, Validation Accuracy: 74.47%, Validation Precision: 0.69%\n"
          ]
        },
        {
          "output_type": "stream",
          "name": "stderr",
          "text": [
            "Epoch 14 in training: 100%|██████████| 750/750 [00:16<00:00, 45.67it/s]\n"
          ]
        },
        {
          "output_type": "stream",
          "name": "stdout",
          "text": [
            "Epoch [14/100] - Train Loss: 1.7138, Train Accuracy: 74.66%, Train Precision: 0.69% - Validation Loss: 1.7095, Validation Accuracy: 75.06%, Validation Precision: 0.70%\n"
          ]
        },
        {
          "output_type": "stream",
          "name": "stderr",
          "text": [
            "Epoch 15 in training: 100%|██████████| 750/750 [00:15<00:00, 47.96it/s]\n"
          ]
        },
        {
          "output_type": "stream",
          "name": "stdout",
          "text": [
            "Epoch [15/100] - Train Loss: 1.7139, Train Accuracy: 74.67%, Train Precision: 0.69% - Validation Loss: 1.7055, Validation Accuracy: 75.56%, Validation Precision: 0.70%\n"
          ]
        },
        {
          "output_type": "stream",
          "name": "stderr",
          "text": [
            "Epoch 16 in training: 100%|██████████| 750/750 [00:16<00:00, 46.54it/s]\n"
          ]
        },
        {
          "output_type": "stream",
          "name": "stdout",
          "text": [
            "Epoch [16/100] - Train Loss: 1.7185, Train Accuracy: 74.19%, Train Precision: 0.69% - Validation Loss: 1.7227, Validation Accuracy: 73.89%, Validation Precision: 0.68%\n"
          ]
        },
        {
          "output_type": "stream",
          "name": "stderr",
          "text": [
            "Epoch 17 in training: 100%|██████████| 750/750 [00:15<00:00, 48.28it/s]\n"
          ]
        },
        {
          "output_type": "stream",
          "name": "stdout",
          "text": [
            "Epoch [17/100] - Train Loss: 1.7130, Train Accuracy: 74.79%, Train Precision: 0.69% - Validation Loss: 1.7040, Validation Accuracy: 75.63%, Validation Precision: 0.70%\n"
          ]
        },
        {
          "output_type": "stream",
          "name": "stderr",
          "text": [
            "Epoch 18 in training: 100%|██████████| 750/750 [00:15<00:00, 47.02it/s]\n"
          ]
        },
        {
          "output_type": "stream",
          "name": "stdout",
          "text": [
            "Epoch [18/100] - Train Loss: 1.7113, Train Accuracy: 74.88%, Train Precision: 0.69% - Validation Loss: 1.7178, Validation Accuracy: 74.25%, Validation Precision: 0.68%\n"
          ]
        },
        {
          "output_type": "stream",
          "name": "stderr",
          "text": [
            "Epoch 19 in training: 100%|██████████| 750/750 [00:15<00:00, 48.99it/s]\n"
          ]
        },
        {
          "output_type": "stream",
          "name": "stdout",
          "text": [
            "Epoch [19/100] - Train Loss: 1.7083, Train Accuracy: 75.19%, Train Precision: 0.69% - Validation Loss: 1.7257, Validation Accuracy: 73.42%, Validation Precision: 0.67%\n"
          ]
        },
        {
          "output_type": "stream",
          "name": "stderr",
          "text": [
            "Epoch 20 in training: 100%|██████████| 750/750 [00:15<00:00, 47.35it/s]\n"
          ]
        },
        {
          "output_type": "stream",
          "name": "stdout",
          "text": [
            "Epoch [20/100] - Train Loss: 1.7060, Train Accuracy: 75.47%, Train Precision: 0.70% - Validation Loss: 1.7185, Validation Accuracy: 74.24%, Validation Precision: 0.69%\n"
          ]
        },
        {
          "output_type": "stream",
          "name": "stderr",
          "text": [
            "Epoch 21 in training: 100%|██████████| 750/750 [00:15<00:00, 48.52it/s]\n"
          ]
        },
        {
          "output_type": "stream",
          "name": "stdout",
          "text": [
            "Epoch [21/100] - Train Loss: 1.7064, Train Accuracy: 75.39%, Train Precision: 0.69% - Validation Loss: 1.7040, Validation Accuracy: 75.63%, Validation Precision: 0.70%\n"
          ]
        },
        {
          "output_type": "stream",
          "name": "stderr",
          "text": [
            "Epoch 22 in training: 100%|██████████| 750/750 [00:15<00:00, 48.66it/s]\n"
          ]
        },
        {
          "output_type": "stream",
          "name": "stdout",
          "text": [
            "Epoch [22/100] - Train Loss: 1.7023, Train Accuracy: 75.86%, Train Precision: 0.70% - Validation Loss: 1.7075, Validation Accuracy: 75.29%, Validation Precision: 0.70%\n"
          ]
        },
        {
          "output_type": "stream",
          "name": "stderr",
          "text": [
            "Epoch 23 in training: 100%|██████████| 750/750 [00:15<00:00, 47.55it/s]\n"
          ]
        },
        {
          "output_type": "stream",
          "name": "stdout",
          "text": [
            "Epoch [23/100] - Train Loss: 1.7029, Train Accuracy: 75.74%, Train Precision: 0.70% - Validation Loss: 1.7069, Validation Accuracy: 75.30%, Validation Precision: 0.69%\n"
          ]
        },
        {
          "output_type": "stream",
          "name": "stderr",
          "text": [
            "Epoch 24 in training: 100%|██████████| 750/750 [00:15<00:00, 47.80it/s]\n"
          ]
        },
        {
          "output_type": "stream",
          "name": "stdout",
          "text": [
            "Epoch [24/100] - Train Loss: 1.7014, Train Accuracy: 75.94%, Train Precision: 0.70% - Validation Loss: 1.7246, Validation Accuracy: 73.61%, Validation Precision: 0.69%\n"
          ]
        },
        {
          "output_type": "stream",
          "name": "stderr",
          "text": [
            "Epoch 25 in training: 100%|██████████| 750/750 [00:15<00:00, 47.34it/s]\n"
          ]
        },
        {
          "output_type": "stream",
          "name": "stdout",
          "text": [
            "Epoch [25/100] - Train Loss: 1.7003, Train Accuracy: 76.08%, Train Precision: 0.70% - Validation Loss: 1.7084, Validation Accuracy: 75.27%, Validation Precision: 0.70%\n"
          ]
        },
        {
          "output_type": "stream",
          "name": "stderr",
          "text": [
            "Epoch 26 in training: 100%|██████████| 750/750 [00:15<00:00, 48.22it/s]\n"
          ]
        },
        {
          "output_type": "stream",
          "name": "stdout",
          "text": [
            "Epoch [26/100] - Train Loss: 1.6999, Train Accuracy: 76.05%, Train Precision: 0.70% - Validation Loss: 1.7141, Validation Accuracy: 74.54%, Validation Precision: 0.70%\n"
          ]
        },
        {
          "output_type": "stream",
          "name": "stderr",
          "text": [
            "Epoch 27 in training: 100%|██████████| 750/750 [00:15<00:00, 48.19it/s]\n"
          ]
        },
        {
          "output_type": "stream",
          "name": "stdout",
          "text": [
            "Epoch [27/100] - Train Loss: 1.7016, Train Accuracy: 75.87%, Train Precision: 0.70% - Validation Loss: 1.7060, Validation Accuracy: 75.36%, Validation Precision: 0.70%\n"
          ]
        },
        {
          "output_type": "stream",
          "name": "stderr",
          "text": [
            "Epoch 28 in training: 100%|██████████| 750/750 [00:15<00:00, 48.32it/s]\n"
          ]
        },
        {
          "output_type": "stream",
          "name": "stdout",
          "text": [
            "Epoch [28/100] - Train Loss: 1.7027, Train Accuracy: 75.78%, Train Precision: 0.70% - Validation Loss: 1.6965, Validation Accuracy: 76.45%, Validation Precision: 0.70%\n"
          ]
        },
        {
          "output_type": "stream",
          "name": "stderr",
          "text": [
            "Epoch 29 in training: 100%|██████████| 750/750 [00:15<00:00, 48.26it/s]\n"
          ]
        },
        {
          "output_type": "stream",
          "name": "stdout",
          "text": [
            "Epoch [29/100] - Train Loss: 1.6997, Train Accuracy: 76.08%, Train Precision: 0.70% - Validation Loss: 1.6990, Validation Accuracy: 76.16%, Validation Precision: 0.70%\n"
          ]
        },
        {
          "output_type": "stream",
          "name": "stderr",
          "text": [
            "Epoch 30 in training: 100%|██████████| 750/750 [00:15<00:00, 47.60it/s]\n"
          ]
        },
        {
          "output_type": "stream",
          "name": "stdout",
          "text": [
            "Epoch [30/100] - Train Loss: 1.7000, Train Accuracy: 76.05%, Train Precision: 0.70% - Validation Loss: 1.7151, Validation Accuracy: 74.46%, Validation Precision: 0.69%\n"
          ]
        },
        {
          "output_type": "stream",
          "name": "stderr",
          "text": [
            "Epoch 31 in training: 100%|██████████| 750/750 [00:15<00:00, 47.89it/s]\n"
          ]
        },
        {
          "output_type": "stream",
          "name": "stdout",
          "text": [
            "Epoch [31/100] - Train Loss: 1.6988, Train Accuracy: 76.15%, Train Precision: 0.70% - Validation Loss: 1.7102, Validation Accuracy: 75.22%, Validation Precision: 0.71%\n"
          ]
        },
        {
          "output_type": "stream",
          "name": "stderr",
          "text": [
            "Epoch 32 in training: 100%|██████████| 750/750 [00:15<00:00, 48.72it/s]\n"
          ]
        },
        {
          "output_type": "stream",
          "name": "stdout",
          "text": [
            "Epoch [32/100] - Train Loss: 1.7012, Train Accuracy: 75.90%, Train Precision: 0.70% - Validation Loss: 1.7370, Validation Accuracy: 72.35%, Validation Precision: 0.70%\n"
          ]
        },
        {
          "output_type": "stream",
          "name": "stderr",
          "text": [
            "Epoch 33 in training: 100%|██████████| 750/750 [00:16<00:00, 44.94it/s]\n"
          ]
        },
        {
          "output_type": "stream",
          "name": "stdout",
          "text": [
            "Epoch [33/100] - Train Loss: 1.6994, Train Accuracy: 76.11%, Train Precision: 0.70% - Validation Loss: 1.6923, Validation Accuracy: 76.83%, Validation Precision: 0.71%\n"
          ]
        },
        {
          "output_type": "stream",
          "name": "stderr",
          "text": [
            "Epoch 34 in training: 100%|██████████| 750/750 [00:15<00:00, 48.16it/s]\n"
          ]
        },
        {
          "output_type": "stream",
          "name": "stdout",
          "text": [
            "Epoch [34/100] - Train Loss: 1.6983, Train Accuracy: 76.19%, Train Precision: 0.70% - Validation Loss: 1.7061, Validation Accuracy: 75.38%, Validation Precision: 0.70%\n"
          ]
        },
        {
          "output_type": "stream",
          "name": "stderr",
          "text": [
            "Epoch 35 in training: 100%|██████████| 750/750 [00:15<00:00, 47.13it/s]\n"
          ]
        },
        {
          "output_type": "stream",
          "name": "stdout",
          "text": [
            "Epoch [35/100] - Train Loss: 1.6955, Train Accuracy: 76.47%, Train Precision: 0.70% - Validation Loss: 1.6944, Validation Accuracy: 76.58%, Validation Precision: 0.70%\n"
          ]
        },
        {
          "output_type": "stream",
          "name": "stderr",
          "text": [
            "Epoch 36 in training: 100%|██████████| 750/750 [00:15<00:00, 48.09it/s]\n"
          ]
        },
        {
          "output_type": "stream",
          "name": "stdout",
          "text": [
            "Epoch [36/100] - Train Loss: 1.7004, Train Accuracy: 75.97%, Train Precision: 0.70% - Validation Loss: 1.6972, Validation Accuracy: 76.33%, Validation Precision: 0.71%\n"
          ]
        },
        {
          "output_type": "stream",
          "name": "stderr",
          "text": [
            "Epoch 37 in training: 100%|██████████| 750/750 [00:15<00:00, 47.20it/s]\n"
          ]
        },
        {
          "output_type": "stream",
          "name": "stdout",
          "text": [
            "Epoch [37/100] - Train Loss: 1.6949, Train Accuracy: 76.58%, Train Precision: 0.71% - Validation Loss: 1.6939, Validation Accuracy: 76.76%, Validation Precision: 0.71%\n"
          ]
        },
        {
          "output_type": "stream",
          "name": "stderr",
          "text": [
            "Epoch 38 in training: 100%|██████████| 750/750 [00:15<00:00, 48.11it/s]\n"
          ]
        },
        {
          "output_type": "stream",
          "name": "stdout",
          "text": [
            "Epoch [38/100] - Train Loss: 1.6942, Train Accuracy: 76.65%, Train Precision: 0.71% - Validation Loss: 1.7018, Validation Accuracy: 75.89%, Validation Precision: 0.71%\n"
          ]
        },
        {
          "output_type": "stream",
          "name": "stderr",
          "text": [
            "Epoch 39 in training: 100%|██████████| 750/750 [00:15<00:00, 47.16it/s]\n"
          ]
        },
        {
          "output_type": "stream",
          "name": "stdout",
          "text": [
            "Epoch [39/100] - Train Loss: 1.6965, Train Accuracy: 76.40%, Train Precision: 0.70% - Validation Loss: 1.6972, Validation Accuracy: 76.27%, Validation Precision: 0.71%\n"
          ]
        },
        {
          "output_type": "stream",
          "name": "stderr",
          "text": [
            "Epoch 40 in training: 100%|██████████| 750/750 [00:15<00:00, 48.19it/s]\n"
          ]
        },
        {
          "output_type": "stream",
          "name": "stdout",
          "text": [
            "Epoch [40/100] - Train Loss: 1.6959, Train Accuracy: 76.45%, Train Precision: 0.71% - Validation Loss: 1.6894, Validation Accuracy: 77.08%, Validation Precision: 0.71%\n"
          ]
        },
        {
          "output_type": "stream",
          "name": "stderr",
          "text": [
            "Epoch 41 in training: 100%|██████████| 750/750 [00:16<00:00, 46.36it/s]\n"
          ]
        },
        {
          "output_type": "stream",
          "name": "stdout",
          "text": [
            "Epoch [41/100] - Train Loss: 1.6926, Train Accuracy: 76.72%, Train Precision: 0.71% - Validation Loss: 1.6899, Validation Accuracy: 77.06%, Validation Precision: 0.71%\n"
          ]
        },
        {
          "output_type": "stream",
          "name": "stderr",
          "text": [
            "Epoch 42 in training: 100%|██████████| 750/750 [00:15<00:00, 47.51it/s]\n"
          ]
        },
        {
          "output_type": "stream",
          "name": "stdout",
          "text": [
            "Epoch [42/100] - Train Loss: 1.6942, Train Accuracy: 76.60%, Train Precision: 0.71% - Validation Loss: 1.6934, Validation Accuracy: 76.67%, Validation Precision: 0.71%\n"
          ]
        },
        {
          "output_type": "stream",
          "name": "stderr",
          "text": [
            "Epoch 43 in training: 100%|██████████| 750/750 [00:16<00:00, 46.16it/s]\n"
          ]
        },
        {
          "output_type": "stream",
          "name": "stdout",
          "text": [
            "Epoch [43/100] - Train Loss: 1.6957, Train Accuracy: 76.48%, Train Precision: 0.70% - Validation Loss: 1.7216, Validation Accuracy: 73.92%, Validation Precision: 0.69%\n"
          ]
        },
        {
          "output_type": "stream",
          "name": "stderr",
          "text": [
            "Epoch 44 in training: 100%|██████████| 750/750 [00:15<00:00, 48.25it/s]\n"
          ]
        },
        {
          "output_type": "stream",
          "name": "stdout",
          "text": [
            "Epoch [44/100] - Train Loss: 1.6941, Train Accuracy: 76.62%, Train Precision: 0.71% - Validation Loss: 1.6887, Validation Accuracy: 77.25%, Validation Precision: 0.72%\n"
          ]
        },
        {
          "output_type": "stream",
          "name": "stderr",
          "text": [
            "Epoch 45 in training: 100%|██████████| 750/750 [00:16<00:00, 46.39it/s]\n"
          ]
        },
        {
          "output_type": "stream",
          "name": "stdout",
          "text": [
            "Epoch [45/100] - Train Loss: 1.6918, Train Accuracy: 76.84%, Train Precision: 0.71% - Validation Loss: 1.7078, Validation Accuracy: 75.17%, Validation Precision: 0.69%\n"
          ]
        },
        {
          "output_type": "stream",
          "name": "stderr",
          "text": [
            "Epoch 46 in training: 100%|██████████| 750/750 [00:16<00:00, 45.98it/s]\n"
          ]
        },
        {
          "output_type": "stream",
          "name": "stdout",
          "text": [
            "Epoch [46/100] - Train Loss: 1.6972, Train Accuracy: 76.32%, Train Precision: 0.70% - Validation Loss: 1.6968, Validation Accuracy: 76.33%, Validation Precision: 0.70%\n"
          ]
        },
        {
          "output_type": "stream",
          "name": "stderr",
          "text": [
            "Epoch 47 in training: 100%|██████████| 750/750 [00:19<00:00, 38.58it/s]\n"
          ]
        },
        {
          "output_type": "stream",
          "name": "stdout",
          "text": [
            "Epoch [47/100] - Train Loss: 1.6935, Train Accuracy: 76.67%, Train Precision: 0.71% - Validation Loss: 1.6961, Validation Accuracy: 76.46%, Validation Precision: 0.71%\n"
          ]
        },
        {
          "output_type": "stream",
          "name": "stderr",
          "text": [
            "Epoch 48 in training: 100%|██████████| 750/750 [00:15<00:00, 47.69it/s]\n"
          ]
        },
        {
          "output_type": "stream",
          "name": "stdout",
          "text": [
            "Epoch [48/100] - Train Loss: 1.6951, Train Accuracy: 76.53%, Train Precision: 0.70% - Validation Loss: 1.7112, Validation Accuracy: 74.88%, Validation Precision: 0.70%\n"
          ]
        },
        {
          "output_type": "stream",
          "name": "stderr",
          "text": [
            "Epoch 49 in training: 100%|██████████| 750/750 [00:15<00:00, 47.87it/s]\n"
          ]
        },
        {
          "output_type": "stream",
          "name": "stdout",
          "text": [
            "Epoch [49/100] - Train Loss: 1.6901, Train Accuracy: 77.07%, Train Precision: 0.71% - Validation Loss: 1.6975, Validation Accuracy: 76.38%, Validation Precision: 0.71%\n"
          ]
        },
        {
          "output_type": "stream",
          "name": "stderr",
          "text": [
            "Epoch 50 in training: 100%|██████████| 750/750 [00:15<00:00, 48.13it/s]\n"
          ]
        },
        {
          "output_type": "stream",
          "name": "stdout",
          "text": [
            "Epoch [50/100] - Train Loss: 1.6908, Train Accuracy: 76.96%, Train Precision: 0.71% - Validation Loss: 1.6973, Validation Accuracy: 76.26%, Validation Precision: 0.71%\n"
          ]
        },
        {
          "output_type": "stream",
          "name": "stderr",
          "text": [
            "Epoch 51 in training: 100%|██████████| 750/750 [00:15<00:00, 47.73it/s]\n"
          ]
        },
        {
          "output_type": "stream",
          "name": "stdout",
          "text": [
            "Epoch [51/100] - Train Loss: 1.6931, Train Accuracy: 76.71%, Train Precision: 0.71% - Validation Loss: 1.6992, Validation Accuracy: 76.08%, Validation Precision: 0.71%\n"
          ]
        },
        {
          "output_type": "stream",
          "name": "stderr",
          "text": [
            "Epoch 52 in training: 100%|██████████| 750/750 [00:15<00:00, 47.73it/s]\n"
          ]
        },
        {
          "output_type": "stream",
          "name": "stdout",
          "text": [
            "Epoch [52/100] - Train Loss: 1.6886, Train Accuracy: 77.16%, Train Precision: 0.71% - Validation Loss: 1.6948, Validation Accuracy: 76.56%, Validation Precision: 0.71%\n"
          ]
        },
        {
          "output_type": "stream",
          "name": "stderr",
          "text": [
            "Epoch 53 in training: 100%|██████████| 750/750 [00:15<00:00, 48.12it/s]\n"
          ]
        },
        {
          "output_type": "stream",
          "name": "stdout",
          "text": [
            "Epoch [53/100] - Train Loss: 1.6908, Train Accuracy: 76.94%, Train Precision: 0.71% - Validation Loss: 1.7110, Validation Accuracy: 74.97%, Validation Precision: 0.71%\n"
          ]
        },
        {
          "output_type": "stream",
          "name": "stderr",
          "text": [
            "Epoch 54 in training: 100%|██████████| 750/750 [00:15<00:00, 48.71it/s]\n"
          ]
        },
        {
          "output_type": "stream",
          "name": "stdout",
          "text": [
            "Epoch [54/100] - Train Loss: 1.6938, Train Accuracy: 76.68%, Train Precision: 0.71% - Validation Loss: 1.6921, Validation Accuracy: 76.83%, Validation Precision: 0.71%\n"
          ]
        },
        {
          "output_type": "stream",
          "name": "stderr",
          "text": [
            "Epoch 55 in training: 100%|██████████| 750/750 [00:15<00:00, 47.99it/s]\n"
          ]
        },
        {
          "output_type": "stream",
          "name": "stdout",
          "text": [
            "Epoch [55/100] - Train Loss: 1.6893, Train Accuracy: 77.14%, Train Precision: 0.71% - Validation Loss: 1.6925, Validation Accuracy: 76.80%, Validation Precision: 0.71%\n"
          ]
        },
        {
          "output_type": "stream",
          "name": "stderr",
          "text": [
            "Epoch 56 in training: 100%|██████████| 750/750 [00:15<00:00, 47.66it/s]\n"
          ]
        },
        {
          "output_type": "stream",
          "name": "stdout",
          "text": [
            "Epoch [56/100] - Train Loss: 1.6901, Train Accuracy: 77.03%, Train Precision: 0.71% - Validation Loss: 1.6881, Validation Accuracy: 77.26%, Validation Precision: 0.71%\n"
          ]
        },
        {
          "output_type": "stream",
          "name": "stderr",
          "text": [
            "Epoch 57 in training: 100%|██████████| 750/750 [00:15<00:00, 48.08it/s]\n"
          ]
        },
        {
          "output_type": "stream",
          "name": "stdout",
          "text": [
            "Epoch [57/100] - Train Loss: 1.6903, Train Accuracy: 77.01%, Train Precision: 0.71% - Validation Loss: 1.7095, Validation Accuracy: 75.14%, Validation Precision: 0.70%\n"
          ]
        },
        {
          "output_type": "stream",
          "name": "stderr",
          "text": [
            "Epoch 58 in training: 100%|██████████| 750/750 [00:16<00:00, 46.36it/s]\n"
          ]
        },
        {
          "output_type": "stream",
          "name": "stdout",
          "text": [
            "Epoch [58/100] - Train Loss: 1.6907, Train Accuracy: 76.99%, Train Precision: 0.71% - Validation Loss: 1.7010, Validation Accuracy: 75.93%, Validation Precision: 0.71%\n"
          ]
        },
        {
          "output_type": "stream",
          "name": "stderr",
          "text": [
            "Epoch 59 in training: 100%|██████████| 750/750 [00:15<00:00, 47.91it/s]\n"
          ]
        },
        {
          "output_type": "stream",
          "name": "stdout",
          "text": [
            "Epoch [59/100] - Train Loss: 1.6920, Train Accuracy: 76.85%, Train Precision: 0.71% - Validation Loss: 1.6998, Validation Accuracy: 76.12%, Validation Precision: 0.71%\n"
          ]
        },
        {
          "output_type": "stream",
          "name": "stderr",
          "text": [
            "Epoch 60 in training: 100%|██████████| 750/750 [00:16<00:00, 46.48it/s]\n"
          ]
        },
        {
          "output_type": "stream",
          "name": "stdout",
          "text": [
            "Epoch [60/100] - Train Loss: 1.6934, Train Accuracy: 76.69%, Train Precision: 0.71% - Validation Loss: 1.6992, Validation Accuracy: 76.12%, Validation Precision: 0.71%\n"
          ]
        },
        {
          "output_type": "stream",
          "name": "stderr",
          "text": [
            "Epoch 61 in training: 100%|██████████| 750/750 [00:15<00:00, 47.97it/s]\n"
          ]
        },
        {
          "output_type": "stream",
          "name": "stdout",
          "text": [
            "Epoch [61/100] - Train Loss: 1.6914, Train Accuracy: 76.92%, Train Precision: 0.71% - Validation Loss: 1.7095, Validation Accuracy: 75.12%, Validation Precision: 0.70%\n"
          ]
        },
        {
          "output_type": "stream",
          "name": "stderr",
          "text": [
            "Epoch 62 in training: 100%|██████████| 750/750 [00:15<00:00, 47.35it/s]\n"
          ]
        },
        {
          "output_type": "stream",
          "name": "stdout",
          "text": [
            "Epoch [62/100] - Train Loss: 1.6966, Train Accuracy: 76.38%, Train Precision: 0.70% - Validation Loss: 1.6997, Validation Accuracy: 76.03%, Validation Precision: 0.71%\n"
          ]
        },
        {
          "output_type": "stream",
          "name": "stderr",
          "text": [
            "Epoch 63 in training: 100%|██████████| 750/750 [00:15<00:00, 47.97it/s]\n"
          ]
        },
        {
          "output_type": "stream",
          "name": "stdout",
          "text": [
            "Epoch [63/100] - Train Loss: 1.6869, Train Accuracy: 77.36%, Train Precision: 0.71% - Validation Loss: 1.6934, Validation Accuracy: 76.83%, Validation Precision: 0.71%\n"
          ]
        },
        {
          "output_type": "stream",
          "name": "stderr",
          "text": [
            "Epoch 64 in training: 100%|██████████| 750/750 [00:16<00:00, 46.59it/s]\n"
          ]
        },
        {
          "output_type": "stream",
          "name": "stdout",
          "text": [
            "Epoch [64/100] - Train Loss: 1.6881, Train Accuracy: 77.25%, Train Precision: 0.71% - Validation Loss: 1.6899, Validation Accuracy: 77.02%, Validation Precision: 0.71%\n"
          ]
        },
        {
          "output_type": "stream",
          "name": "stderr",
          "text": [
            "Epoch 65 in training: 100%|██████████| 750/750 [00:15<00:00, 48.87it/s]\n"
          ]
        },
        {
          "output_type": "stream",
          "name": "stdout",
          "text": [
            "Epoch [65/100] - Train Loss: 1.6916, Train Accuracy: 76.86%, Train Precision: 0.71% - Validation Loss: 1.6907, Validation Accuracy: 77.05%, Validation Precision: 0.71%\n"
          ]
        },
        {
          "output_type": "stream",
          "name": "stderr",
          "text": [
            "Epoch 66 in training: 100%|██████████| 750/750 [00:16<00:00, 46.60it/s]\n"
          ]
        },
        {
          "output_type": "stream",
          "name": "stdout",
          "text": [
            "Epoch [66/100] - Train Loss: 1.6979, Train Accuracy: 76.26%, Train Precision: 0.70% - Validation Loss: 1.6875, Validation Accuracy: 77.36%, Validation Precision: 0.72%\n"
          ]
        },
        {
          "output_type": "stream",
          "name": "stderr",
          "text": [
            "Epoch 67 in training: 100%|██████████| 750/750 [00:15<00:00, 48.43it/s]\n"
          ]
        },
        {
          "output_type": "stream",
          "name": "stdout",
          "text": [
            "Epoch [67/100] - Train Loss: 1.6883, Train Accuracy: 77.23%, Train Precision: 0.71% - Validation Loss: 1.7012, Validation Accuracy: 75.92%, Validation Precision: 0.70%\n"
          ]
        },
        {
          "output_type": "stream",
          "name": "stderr",
          "text": [
            "Epoch 68 in training: 100%|██████████| 750/750 [00:16<00:00, 45.95it/s]\n"
          ]
        },
        {
          "output_type": "stream",
          "name": "stdout",
          "text": [
            "Epoch [68/100] - Train Loss: 1.6905, Train Accuracy: 77.00%, Train Precision: 0.71% - Validation Loss: 1.6878, Validation Accuracy: 77.30%, Validation Precision: 0.72%\n"
          ]
        },
        {
          "output_type": "stream",
          "name": "stderr",
          "text": [
            "Epoch 69 in training: 100%|██████████| 750/750 [00:15<00:00, 48.07it/s]\n"
          ]
        },
        {
          "output_type": "stream",
          "name": "stdout",
          "text": [
            "Epoch [69/100] - Train Loss: 1.6904, Train Accuracy: 77.00%, Train Precision: 0.71% - Validation Loss: 1.6961, Validation Accuracy: 76.42%, Validation Precision: 0.71%\n"
          ]
        },
        {
          "output_type": "stream",
          "name": "stderr",
          "text": [
            "Epoch 70 in training: 100%|██████████| 750/750 [00:16<00:00, 45.17it/s]\n"
          ]
        },
        {
          "output_type": "stream",
          "name": "stdout",
          "text": [
            "Epoch [70/100] - Train Loss: 1.6884, Train Accuracy: 77.20%, Train Precision: 0.71% - Validation Loss: 1.7036, Validation Accuracy: 75.72%, Validation Precision: 0.70%\n"
          ]
        },
        {
          "output_type": "stream",
          "name": "stderr",
          "text": [
            "Epoch 71 in training: 100%|██████████| 750/750 [00:15<00:00, 48.14it/s]\n"
          ]
        },
        {
          "output_type": "stream",
          "name": "stdout",
          "text": [
            "Epoch [71/100] - Train Loss: 1.6922, Train Accuracy: 76.84%, Train Precision: 0.71% - Validation Loss: 1.6978, Validation Accuracy: 76.20%, Validation Precision: 0.70%\n"
          ]
        },
        {
          "output_type": "stream",
          "name": "stderr",
          "text": [
            "Epoch 72 in training: 100%|██████████| 750/750 [00:16<00:00, 45.81it/s]\n"
          ]
        },
        {
          "output_type": "stream",
          "name": "stdout",
          "text": [
            "Epoch [72/100] - Train Loss: 1.6901, Train Accuracy: 77.02%, Train Precision: 0.71% - Validation Loss: 1.6932, Validation Accuracy: 76.71%, Validation Precision: 0.71%\n"
          ]
        },
        {
          "output_type": "stream",
          "name": "stderr",
          "text": [
            "Epoch 73 in training: 100%|██████████| 750/750 [00:15<00:00, 47.51it/s]\n"
          ]
        },
        {
          "output_type": "stream",
          "name": "stdout",
          "text": [
            "Epoch [73/100] - Train Loss: 1.6895, Train Accuracy: 77.07%, Train Precision: 0.71% - Validation Loss: 1.6918, Validation Accuracy: 76.90%, Validation Precision: 0.71%\n"
          ]
        },
        {
          "output_type": "stream",
          "name": "stderr",
          "text": [
            "Epoch 74 in training: 100%|██████████| 750/750 [00:16<00:00, 45.34it/s]\n"
          ]
        },
        {
          "output_type": "stream",
          "name": "stdout",
          "text": [
            "Epoch [74/100] - Train Loss: 1.6896, Train Accuracy: 77.10%, Train Precision: 0.71% - Validation Loss: 1.6829, Validation Accuracy: 77.78%, Validation Precision: 0.72%\n"
          ]
        },
        {
          "output_type": "stream",
          "name": "stderr",
          "text": [
            "Epoch 75 in training: 100%|██████████| 750/750 [00:15<00:00, 47.87it/s]\n"
          ]
        },
        {
          "output_type": "stream",
          "name": "stdout",
          "text": [
            "Epoch [75/100] - Train Loss: 1.6910, Train Accuracy: 76.94%, Train Precision: 0.71% - Validation Loss: 1.6934, Validation Accuracy: 76.78%, Validation Precision: 0.71%\n"
          ]
        },
        {
          "output_type": "stream",
          "name": "stderr",
          "text": [
            "Epoch 76 in training: 100%|██████████| 750/750 [00:16<00:00, 45.73it/s]\n"
          ]
        },
        {
          "output_type": "stream",
          "name": "stdout",
          "text": [
            "Epoch [76/100] - Train Loss: 1.6908, Train Accuracy: 76.94%, Train Precision: 0.71% - Validation Loss: 1.6901, Validation Accuracy: 77.04%, Validation Precision: 0.71%\n"
          ]
        },
        {
          "output_type": "stream",
          "name": "stderr",
          "text": [
            "Epoch 77 in training: 100%|██████████| 750/750 [00:15<00:00, 47.90it/s]\n"
          ]
        },
        {
          "output_type": "stream",
          "name": "stdout",
          "text": [
            "Epoch [77/100] - Train Loss: 1.6914, Train Accuracy: 76.93%, Train Precision: 0.71% - Validation Loss: 1.6868, Validation Accuracy: 77.40%, Validation Precision: 0.72%\n"
          ]
        },
        {
          "output_type": "stream",
          "name": "stderr",
          "text": [
            "Epoch 78 in training: 100%|██████████| 750/750 [00:16<00:00, 45.89it/s]\n"
          ]
        },
        {
          "output_type": "stream",
          "name": "stdout",
          "text": [
            "Epoch [78/100] - Train Loss: 1.6944, Train Accuracy: 76.63%, Train Precision: 0.71% - Validation Loss: 1.7292, Validation Accuracy: 73.13%, Validation Precision: 0.69%\n"
          ]
        },
        {
          "output_type": "stream",
          "name": "stderr",
          "text": [
            "Epoch 79 in training: 100%|██████████| 750/750 [00:15<00:00, 48.63it/s]\n"
          ]
        },
        {
          "output_type": "stream",
          "name": "stdout",
          "text": [
            "Epoch [79/100] - Train Loss: 1.6925, Train Accuracy: 76.79%, Train Precision: 0.71% - Validation Loss: 1.6876, Validation Accuracy: 77.30%, Validation Precision: 0.72%\n"
          ]
        },
        {
          "output_type": "stream",
          "name": "stderr",
          "text": [
            "Epoch 80 in training: 100%|██████████| 750/750 [00:16<00:00, 46.36it/s]\n"
          ]
        },
        {
          "output_type": "stream",
          "name": "stdout",
          "text": [
            "Epoch [80/100] - Train Loss: 1.6884, Train Accuracy: 77.21%, Train Precision: 0.71% - Validation Loss: 1.6956, Validation Accuracy: 76.49%, Validation Precision: 0.71%\n"
          ]
        },
        {
          "output_type": "stream",
          "name": "stderr",
          "text": [
            "Epoch 81 in training: 100%|██████████| 750/750 [00:15<00:00, 48.62it/s]\n"
          ]
        },
        {
          "output_type": "stream",
          "name": "stdout",
          "text": [
            "Epoch [81/100] - Train Loss: 1.6889, Train Accuracy: 77.20%, Train Precision: 0.71% - Validation Loss: 1.7076, Validation Accuracy: 75.31%, Validation Precision: 0.71%\n"
          ]
        },
        {
          "output_type": "stream",
          "name": "stderr",
          "text": [
            "Epoch 82 in training: 100%|██████████| 750/750 [00:16<00:00, 46.68it/s]\n"
          ]
        },
        {
          "output_type": "stream",
          "name": "stdout",
          "text": [
            "Epoch [82/100] - Train Loss: 1.6927, Train Accuracy: 76.81%, Train Precision: 0.71% - Validation Loss: 1.6868, Validation Accuracy: 77.34%, Validation Precision: 0.72%\n"
          ]
        },
        {
          "output_type": "stream",
          "name": "stderr",
          "text": [
            "Epoch 83 in training: 100%|██████████| 750/750 [00:15<00:00, 48.36it/s]\n"
          ]
        },
        {
          "output_type": "stream",
          "name": "stdout",
          "text": [
            "Epoch [83/100] - Train Loss: 1.6943, Train Accuracy: 76.63%, Train Precision: 0.70% - Validation Loss: 1.6941, Validation Accuracy: 76.64%, Validation Precision: 0.71%\n"
          ]
        },
        {
          "output_type": "stream",
          "name": "stderr",
          "text": [
            "Epoch 84 in training: 100%|██████████| 750/750 [00:16<00:00, 46.58it/s]\n"
          ]
        },
        {
          "output_type": "stream",
          "name": "stdout",
          "text": [
            "Epoch [84/100] - Train Loss: 1.6922, Train Accuracy: 76.86%, Train Precision: 0.71% - Validation Loss: 1.7098, Validation Accuracy: 75.06%, Validation Precision: 0.70%\n"
          ]
        },
        {
          "output_type": "stream",
          "name": "stderr",
          "text": [
            "Epoch 85 in training: 100%|██████████| 750/750 [00:15<00:00, 47.81it/s]\n"
          ]
        },
        {
          "output_type": "stream",
          "name": "stdout",
          "text": [
            "Epoch [85/100] - Train Loss: 1.6943, Train Accuracy: 76.62%, Train Precision: 0.70% - Validation Loss: 1.7050, Validation Accuracy: 75.45%, Validation Precision: 0.69%\n"
          ]
        },
        {
          "output_type": "stream",
          "name": "stderr",
          "text": [
            "Epoch 86 in training: 100%|██████████| 750/750 [00:16<00:00, 46.46it/s]\n"
          ]
        },
        {
          "output_type": "stream",
          "name": "stdout",
          "text": [
            "Epoch [86/100] - Train Loss: 1.6897, Train Accuracy: 77.08%, Train Precision: 0.71% - Validation Loss: 1.6912, Validation Accuracy: 76.90%, Validation Precision: 0.71%\n"
          ]
        },
        {
          "output_type": "stream",
          "name": "stderr",
          "text": [
            "Epoch 87 in training: 100%|██████████| 750/750 [00:15<00:00, 48.07it/s]\n"
          ]
        },
        {
          "output_type": "stream",
          "name": "stdout",
          "text": [
            "Epoch [87/100] - Train Loss: 1.6943, Train Accuracy: 76.62%, Train Precision: 0.70% - Validation Loss: 1.6796, Validation Accuracy: 78.10%, Validation Precision: 0.72%\n"
          ]
        },
        {
          "output_type": "stream",
          "name": "stderr",
          "text": [
            "Epoch 88 in training: 100%|██████████| 750/750 [00:15<00:00, 47.41it/s]\n"
          ]
        },
        {
          "output_type": "stream",
          "name": "stdout",
          "text": [
            "Epoch [88/100] - Train Loss: 1.6905, Train Accuracy: 77.03%, Train Precision: 0.71% - Validation Loss: 1.7068, Validation Accuracy: 75.41%, Validation Precision: 0.70%\n"
          ]
        },
        {
          "output_type": "stream",
          "name": "stderr",
          "text": [
            "Epoch 89 in training: 100%|██████████| 750/750 [00:15<00:00, 47.73it/s]\n"
          ]
        },
        {
          "output_type": "stream",
          "name": "stdout",
          "text": [
            "Epoch [89/100] - Train Loss: 1.6897, Train Accuracy: 77.09%, Train Precision: 0.71% - Validation Loss: 1.7103, Validation Accuracy: 75.04%, Validation Precision: 0.70%\n"
          ]
        },
        {
          "output_type": "stream",
          "name": "stderr",
          "text": [
            "Epoch 90 in training: 100%|██████████| 750/750 [00:15<00:00, 48.15it/s]\n"
          ]
        },
        {
          "output_type": "stream",
          "name": "stdout",
          "text": [
            "Epoch [90/100] - Train Loss: 1.6893, Train Accuracy: 77.12%, Train Precision: 0.71% - Validation Loss: 1.7045, Validation Accuracy: 75.61%, Validation Precision: 0.70%\n"
          ]
        },
        {
          "output_type": "stream",
          "name": "stderr",
          "text": [
            "Epoch 91 in training: 100%|██████████| 750/750 [00:15<00:00, 48.17it/s]\n"
          ]
        },
        {
          "output_type": "stream",
          "name": "stdout",
          "text": [
            "Epoch [91/100] - Train Loss: 1.6911, Train Accuracy: 76.93%, Train Precision: 0.71% - Validation Loss: 1.6863, Validation Accuracy: 77.43%, Validation Precision: 0.72%\n"
          ]
        },
        {
          "output_type": "stream",
          "name": "stderr",
          "text": [
            "Epoch 92 in training: 100%|██████████| 750/750 [00:15<00:00, 48.27it/s]\n"
          ]
        },
        {
          "output_type": "stream",
          "name": "stdout",
          "text": [
            "Epoch [92/100] - Train Loss: 1.6916, Train Accuracy: 76.90%, Train Precision: 0.71% - Validation Loss: 1.7227, Validation Accuracy: 73.79%, Validation Precision: 0.70%\n"
          ]
        },
        {
          "output_type": "stream",
          "name": "stderr",
          "text": [
            "Epoch 93 in training: 100%|██████████| 750/750 [00:17<00:00, 41.70it/s]\n"
          ]
        },
        {
          "output_type": "stream",
          "name": "stdout",
          "text": [
            "Epoch [93/100] - Train Loss: 1.6931, Train Accuracy: 76.74%, Train Precision: 0.71% - Validation Loss: 1.7039, Validation Accuracy: 75.66%, Validation Precision: 0.71%\n"
          ]
        },
        {
          "output_type": "stream",
          "name": "stderr",
          "text": [
            "Epoch 94 in training: 100%|██████████| 750/750 [00:16<00:00, 45.73it/s]\n"
          ]
        },
        {
          "output_type": "stream",
          "name": "stdout",
          "text": [
            "Epoch [94/100] - Train Loss: 1.6947, Train Accuracy: 76.60%, Train Precision: 0.71% - Validation Loss: 1.6851, Validation Accuracy: 77.59%, Validation Precision: 0.72%\n"
          ]
        },
        {
          "output_type": "stream",
          "name": "stderr",
          "text": [
            "Epoch 95 in training: 100%|██████████| 750/750 [00:15<00:00, 48.30it/s]\n"
          ]
        },
        {
          "output_type": "stream",
          "name": "stdout",
          "text": [
            "Epoch [95/100] - Train Loss: 1.6899, Train Accuracy: 77.09%, Train Precision: 0.71% - Validation Loss: 1.6999, Validation Accuracy: 76.11%, Validation Precision: 0.71%\n"
          ]
        },
        {
          "output_type": "stream",
          "name": "stderr",
          "text": [
            "Epoch 96 in training: 100%|██████████| 750/750 [00:16<00:00, 46.69it/s]\n"
          ]
        },
        {
          "output_type": "stream",
          "name": "stdout",
          "text": [
            "Epoch [96/100] - Train Loss: 1.6870, Train Accuracy: 77.38%, Train Precision: 0.71% - Validation Loss: 1.7023, Validation Accuracy: 75.78%, Validation Precision: 0.70%\n"
          ]
        },
        {
          "output_type": "stream",
          "name": "stderr",
          "text": [
            "Epoch 97 in training: 100%|██████████| 750/750 [00:15<00:00, 48.40it/s]\n"
          ]
        },
        {
          "output_type": "stream",
          "name": "stdout",
          "text": [
            "Epoch [97/100] - Train Loss: 1.6887, Train Accuracy: 77.20%, Train Precision: 0.71% - Validation Loss: 1.6966, Validation Accuracy: 76.40%, Validation Precision: 0.71%\n"
          ]
        },
        {
          "output_type": "stream",
          "name": "stderr",
          "text": [
            "Epoch 98 in training: 100%|██████████| 750/750 [00:17<00:00, 43.92it/s]\n"
          ]
        },
        {
          "output_type": "stream",
          "name": "stdout",
          "text": [
            "Epoch [98/100] - Train Loss: 1.6893, Train Accuracy: 77.15%, Train Precision: 0.71% - Validation Loss: 1.6999, Validation Accuracy: 76.10%, Validation Precision: 0.71%\n"
          ]
        },
        {
          "output_type": "stream",
          "name": "stderr",
          "text": [
            "Epoch 99 in training: 100%|██████████| 750/750 [00:15<00:00, 47.86it/s]\n"
          ]
        },
        {
          "output_type": "stream",
          "name": "stdout",
          "text": [
            "Epoch [99/100] - Train Loss: 1.6940, Train Accuracy: 76.68%, Train Precision: 0.71% - Validation Loss: 1.6850, Validation Accuracy: 77.63%, Validation Precision: 0.72%\n"
          ]
        },
        {
          "output_type": "stream",
          "name": "stderr",
          "text": [
            "Epoch 100 in training: 100%|██████████| 750/750 [00:16<00:00, 46.47it/s]\n"
          ]
        },
        {
          "output_type": "stream",
          "name": "stdout",
          "text": [
            "Epoch [100/100] - Train Loss: 1.6904, Train Accuracy: 77.03%, Train Precision: 0.71% - Validation Loss: 1.6975, Validation Accuracy: 76.32%, Validation Precision: 0.71%\n"
          ]
        },
        {
          "output_type": "stream",
          "name": "stderr",
          "text": [
            "Testing: 100%|██████████| 157/157 [00:02<00:00, 78.40it/s]"
          ]
        },
        {
          "output_type": "stream",
          "name": "stdout",
          "text": [
            "Test loss: 1.70\n",
            "Test accuracy: 76.37%\n"
          ]
        },
        {
          "output_type": "stream",
          "name": "stderr",
          "text": [
            "\n"
          ]
        }
      ]
    },
    {
      "cell_type": "code",
      "source": [
        "plt.figure(figsize=(16, 4))\n",
        "plt.subplot(1, 3, 1)\n",
        "plt.plot(train_accs, label='Train')\n",
        "plt.plot(val_accs, label='Validation')\n",
        "plt.title('Accuracy vs. Epoch')\n",
        "plt.xlabel('Epoch')\n",
        "plt.ylabel('Accuracy (%)')\n",
        "plt.legend()\n",
        "\n",
        "plt.subplot(1, 3, 2)\n",
        "plt.plot(train_precisions, label='Train')\n",
        "plt.plot(val_precisions, label='Validation')\n",
        "plt.title('Precision vs. Epoch')\n",
        "plt.xlabel('Epoch')\n",
        "plt.ylabel('Precision')\n",
        "plt.legend()\n",
        "\n",
        "plt.subplot(1, 3, 3)\n",
        "plt.plot(train_losses, label='Train')\n",
        "plt.plot(val_losses, label='Validation')\n",
        "plt.title('Loss vs. Epoch')\n",
        "plt.xlabel('Epoch')\n",
        "plt.ylabel('Loss')\n",
        "plt.legend()\n",
        "\n",
        "plt.show()"
      ],
      "metadata": {
        "id": "vXdPesjUYLQf",
        "colab": {
          "base_uri": "https://localhost:8080/",
          "height": 430
        },
        "outputId": "0b4ead82-b44d-4b21-aa94-4a28db5eaa75"
      },
      "execution_count": 10,
      "outputs": [
        {
          "output_type": "display_data",
          "data": {
            "text/plain": [
              "<Figure size 1600x400 with 3 Axes>"
            ],
            "image/png": "[encoded data removed]"
          },
          "metadata": {}
        }
      ]
    },
    {
      "cell_type": "code",
      "source": [
        "# Select a few random images from the test set\n",
        "dataiter = iter(test_dataloader)\n",
        "images, labels = next(dataiter)\n",
        "images, labels = images.to(device), labels.to(device)\n",
        "outputs = model(images)\n",
        "\n",
        "# Visualize the images and their predicted labels\n",
        "fig, axs = plt.subplots(2, 5, figsize=(10, 4))\n",
        "fig.tight_layout()\n",
        "for i in range(2):\n",
        "    for j in range(5):\n",
        "        idx = i * 5 + j\n",
        "\n",
        "        axs[i, j].imshow(np.transpose(images[idx].cpu(), (1, 2, 0)))\n",
        "        axs[i, j].set_title(f'Predicted: {class_names[outputs[idx].argmax()]}\\nTrue: {class_names[labels[idx]]}', fontsize=8)\n",
        "        axs[i, j].axis('off')\n",
        "plt.show()"
      ],
      "metadata": {
        "id": "RbiVZ4uCYLMI",
        "colab": {
          "base_uri": "https://localhost:8080/",
          "height": 324
        },
        "outputId": "16d0f436-dbcb-4639-963e-2dfbd2a94ce8"
      },
      "execution_count": 11,
      "outputs": [
        {
          "output_type": "display_data",
          "data": {
            "text/plain": [
              "<Figure size 1000x400 with 10 Axes>"
            ],
            "image/png": "[encoded data removed]"
          },
          "metadata": {}
        }
      ]
    },
    {
      "cell_type": "markdown",
      "source": [
        "У цій роботі ми реалізували модель Vision Transformer (ViT) для класифікації зображень. Архітектура моделі є гнучкою і може бути додатково налаштована та налаштована для конкретних наборів даних і програм. На завершення ця робота демонструє успішну реалізацію моделі Vision Transformer для класифікації зображень, демонструючи її потенціал для досягнення конкурентоспроможних результатів у різних завданнях, заснованих на зображенні. Проте порівнюючи результати із попередніх  лабораторних робіт при використані згорткових нейроних мереж ми отримували кращмй результат."
      ],
      "metadata": {
        "id": "DvVOl5YwjBTq"
      }
    },
    {
      "cell_type": "code",
      "source": [],
      "metadata": {
        "id": "hYNGOhVXptQ1"
      },
      "execution_count": null,
      "outputs": []
    }
  ]
}